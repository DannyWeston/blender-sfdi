{
 "cells": [
  {
   "cell_type": "code",
   "execution_count": 6,
   "metadata": {},
   "outputs": [],
   "source": [
    "import numpy as np\n",
    "\n",
    "import matplotlib as mpl\n",
    "import matplotlib.pyplot as plt \n",
    "\n",
    "import os\n",
    "\n",
    "import cv2\n",
    "\n",
    "from skimage import io\n",
    "\n",
    "ROOT_DIR = os.getcwd()\n",
    "CHECKERBOARD_PATH = os.path.join(ROOT_DIR, 'Images', 'checkerboards')"
   ]
  },
  {
   "cell_type": "markdown",
   "metadata": {},
   "source": [
    "## Create a checkerboard pattern\n",
    "\n",
    "* Must have an even image size (odd sizes will be truncated down)\n",
    "* Shape must be of length 1 or greater in both dimensions\n",
    "\n",
    "* OpenCV needs a white border to recognise the checkerboard for calibration, the default is set to \n",
    "16 pixels thickness"
   ]
  },
  {
   "cell_type": "code",
   "execution_count": 48,
   "metadata": {},
   "outputs": [
    {
     "data": {
      "image/png": "[encoded data removed]",
      "text/plain": [
       "<Figure size 640x480 with 1 Axes>"
      ]
     },
     "metadata": {},
     "output_type": "display_data"
    },
    {
     "ename": "",
     "evalue": "",
     "output_type": "error",
     "traceback": [
      "\u001b[1;31mThe Kernel crashed while executing code in the the current cell or a previous cell. Please review the code in the cell(s) to identify a possible cause of the failure. Click <a href='https://aka.ms/vscodeJupyterKernelCrash'>here</a> for more info. View Jupyter <a href='command:jupyter.viewOutput'>log</a> for further details."
     ]
    }
   ],
   "source": [
    "def checkerboard(width, shape=(8, 8), pad=16):\n",
    "    board = np.indices(shape).sum(axis=0) % 2\n",
    "    img_unpadded = np.repeat(np.repeat(board, int(width / max(shape)), axis=1), int(width / max(shape)), axis=0)\n",
    "\n",
    "    height, width = img_unpadded.shape\n",
    "    new_height = height + 2 * pad\n",
    "    new_width = width + 2 * pad\n",
    "\n",
    "    return np.pad(img_unpadded, pad_width=pad, mode='constant', constant_values=1)\n",
    "\n",
    "shape = (8, 6)\n",
    "width = 1024\n",
    "\n",
    "cb = checkerboard(width, shape)\n",
    "plt.imshow(cb, cmap='gray')\n",
    "\n",
    "# Save the generated pattern\n",
    "\n",
    "name = os.path.join(CHECKERBOARD_PATH, f'{shape[0]}x{shape[1]}_{width}.jpg')\n",
    "plt.imsave(name, cb, cmap='gray')"
   ]
  },
  {
   "cell_type": "markdown",
   "metadata": {},
   "source": [
    "## Use the checkerboard images to calculate a camera property matrix"
   ]
  },
  {
   "cell_type": "code",
   "execution_count": 20,
   "metadata": {},
   "outputs": [
    {
     "name": "stdout",
     "output_type": "stream",
     "text": [
      "10 checkerboard renders successfully loaded\n"
     ]
    }
   ],
   "source": [
    "imgs_path = os.path.join(CHECKERBOARD_PATH, 'renders')\n",
    "\n",
    "imgs = []\n",
    "i = 0\n",
    "while True:\n",
    "    img = cv2.imread(os.path.join(imgs_path, f'render_{i}.jpg'))\n",
    "    \n",
    "    if img is None: break\n",
    "\n",
    "    imgs.append(img)\n",
    "    i += 1\n",
    "    \n",
    "IMGS_REQUIRED = 10\n",
    "\n",
    "if len(imgs) < IMGS_REQUIRED:\n",
    "    print(\"Not enough images passed for calibration\")\n",
    "    raise\n",
    "else:\n",
    "    print(f'{len(imgs)} checkerboard renders successfully loaded')\n",
    "\n"
   ]
  },
  {
   "cell_type": "code",
   "execution_count": 23,
   "metadata": {},
   "outputs": [
    {
     "name": "stdout",
     "output_type": "stream",
     "text": [
      "Camera matrix: [[956.77151139   0.         611.64475506]\n",
      " [  0.         957.14527194 383.35436203]\n",
      " [  0.           0.           1.        ]]\n"
     ]
    }
   ],
   "source": [
    "import cv2\n",
    "\n",
    "CHECKERBOARD = (7, 5)\n",
    "\n",
    "criteria = (cv2.TERM_CRITERIA_EPS + cv2.TERM_CRITERIA_MAX_ITER, 30, 0.001)\n",
    "\n",
    "threedpoints = []\n",
    "twodpoints = []\n",
    "\n",
    "objectp3d = np.zeros((1, CHECKERBOARD[0] * CHECKERBOARD[1], 3), np.float32)\n",
    "objectp3d[0, :, :2] = np.mgrid[0:CHECKERBOARD[0], 0:CHECKERBOARD[1]].T.reshape(-1, 2)\n",
    "prev_img_shape = None\n",
    "\n",
    "for i, image in enumerate(imgs):\n",
    "    #image = np.array(256 - image, dtype=np.uint8)\n",
    "    grey_img = cv2.cvtColor(image, cv2.COLOR_BGR2GRAY)\n",
    "\n",
    "    ret, corners = cv2.findChessboardCorners(grey_img, CHECKERBOARD, \n",
    "                                            cv2.CALIB_CB_ADAPTIVE_THRESH + cv2.CALIB_CB_FAST_CHECK + cv2.CALIB_CB_NORMALIZE_IMAGE)\n",
    "\n",
    "    if ret:\n",
    "        threedpoints.append(objectp3d)\n",
    "\n",
    "        corners2 = cv2.cornerSubPix(grey_img, corners, (11, 11), (-1, -1), criteria)\n",
    "\n",
    "        twodpoints.append(corners2)\n",
    "        \n",
    "        #image = cv2.drawChessboardCorners(image, CHECKERBOARD, corners2, ret)\n",
    "    else:\n",
    "        print(f'Failed to find checkerboard on image {i}')\n",
    "\n",
    "cv2.destroyAllWindows()\n",
    "\n",
    "h, w = image.shape[:2]\n",
    "\n",
    "ret, cam_mat, dist_mat, r_vecs, t_vecs = cv2.calibrateCamera(threedpoints, twodpoints, grey_img.shape[::-1], None, None)\n",
    "\n",
    "if not ret:\n",
    "    raise\n",
    "\n",
    "optimal_mat, roi = cv2.getOptimalNewCameraMatrix(cam_mat, dist_mat, (w, h), 1, (w, h))\n",
    "\n",
    "print(f'Camera matrix: {cam_mat}')\n",
    "print(f'Dist matrix: {dist_mat}')\n",
    "print(f'Optimal matrix: {optimal_mat}')"
   ]
  },
  {
   "cell_type": "code",
   "execution_count": 24,
   "metadata": {},
   "outputs": [
    {
     "data": {
      "text/plain": [
       "-1"
      ]
     },
     "execution_count": 24,
     "metadata": {},
     "output_type": "execute_result"
    }
   ],
   "source": [
    "img_test = cv2.imread(os.path.join(imgs_path, f'test.jpg'))\n",
    "\n",
    "h, w = img_test.shape[:2]\n",
    "\n",
    "img_fixed = cv2.undistort(img_test, cam_mat, dist_mat, None, optimal_mat)\n",
    "# crop the image\n",
    "#x, y, w, h = roi\n",
    "#img_fixed = img_fixed[y:y+h, x:x+w]\n",
    "\n",
    "cv2.imshow('image', img_fixed)\n",
    "cv2.waitKey(0)"
   ]
  }
 ],
 "metadata": {
  "kernelspec": {
   "display_name": "fpp",
   "language": "python",
   "name": "python3"
  },
  "language_info": {
   "codemirror_mode": {
    "name": "ipython",
    "version": 3
   },
   "file_extension": ".py",
   "mimetype": "text/x-python",
   "name": "python",
   "nbconvert_exporter": "python",
   "pygments_lexer": "ipython3",
   "version": "3.12.0"
  }
 },
 "nbformat": 4,
 "nbformat_minor": 2
}
